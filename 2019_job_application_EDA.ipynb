{
 "cells": [
  {
   "cell_type": "code",
   "execution_count": 43,
   "id": "6cebb0a0",
   "metadata": {},
   "outputs": [],
   "source": [
    "import seaborn as sns"
   ]
  },
  {
   "cell_type": "code",
   "execution_count": 44,
   "id": "994cf2fa",
   "metadata": {},
   "outputs": [],
   "source": [
    "import pandas as pd\n",
    "import numpy as np\n",
    "import matplotlib.pyplot as plt"
   ]
  },
  {
   "cell_type": "code",
   "execution_count": 70,
   "id": "dd66c647",
   "metadata": {},
   "outputs": [],
   "source": [
    "df=pd.read_csv('E:\\\\2019_job_applications.csv')"
   ]
  },
  {
   "cell_type": "code",
   "execution_count": 46,
   "id": "1e140005",
   "metadata": {},
   "outputs": [
    {
     "data": {
      "text/html": [
       "<div>\n",
       "<style scoped>\n",
       "    .dataframe tbody tr th:only-of-type {\n",
       "        vertical-align: middle;\n",
       "    }\n",
       "\n",
       "    .dataframe tbody tr th {\n",
       "        vertical-align: top;\n",
       "    }\n",
       "\n",
       "    .dataframe thead th {\n",
       "        text-align: right;\n",
       "    }\n",
       "</style>\n",
       "<table border=\"1\" class=\"dataframe\">\n",
       "  <thead>\n",
       "    <tr style=\"text-align: right;\">\n",
       "      <th></th>\n",
       "      <th>ID</th>\n",
       "      <th>Date</th>\n",
       "      <th>Job Title</th>\n",
       "      <th>Job Location</th>\n",
       "      <th>Hired</th>\n",
       "      <th>Easy Apply</th>\n",
       "      <th>Month</th>\n",
       "    </tr>\n",
       "  </thead>\n",
       "  <tbody>\n",
       "    <tr>\n",
       "      <th>0</th>\n",
       "      <td>11578773</td>\n",
       "      <td>1/1/19 0:01</td>\n",
       "      <td>BUSINESS DATA ANALYST</td>\n",
       "      <td>New York, NY</td>\n",
       "      <td>True</td>\n",
       "      <td>False</td>\n",
       "      <td>January</td>\n",
       "    </tr>\n",
       "    <tr>\n",
       "      <th>1</th>\n",
       "      <td>11613549</td>\n",
       "      <td>1/1/19 0:01</td>\n",
       "      <td>CLINICAL DATA ANALYST</td>\n",
       "      <td>New York, NY</td>\n",
       "      <td>False</td>\n",
       "      <td>False</td>\n",
       "      <td>January</td>\n",
       "    </tr>\n",
       "    <tr>\n",
       "      <th>2</th>\n",
       "      <td>11680840</td>\n",
       "      <td>1/1/19 0:01</td>\n",
       "      <td>DATA QUALITY ANALYST</td>\n",
       "      <td>New York, NY</td>\n",
       "      <td>False</td>\n",
       "      <td>False</td>\n",
       "      <td>January</td>\n",
       "    </tr>\n",
       "    <tr>\n",
       "      <th>3</th>\n",
       "      <td>11809979</td>\n",
       "      <td>1/1/19 0:01</td>\n",
       "      <td>DATA QUALITY ANALYST</td>\n",
       "      <td>New York, NY</td>\n",
       "      <td>False</td>\n",
       "      <td>True</td>\n",
       "      <td>January</td>\n",
       "    </tr>\n",
       "    <tr>\n",
       "      <th>4</th>\n",
       "      <td>11836481</td>\n",
       "      <td>1/1/19 0:01</td>\n",
       "      <td>QA DATA ANALYST</td>\n",
       "      <td>New York, NY</td>\n",
       "      <td>False</td>\n",
       "      <td>False</td>\n",
       "      <td>January</td>\n",
       "    </tr>\n",
       "  </tbody>\n",
       "</table>\n",
       "</div>"
      ],
      "text/plain": [
       "         ID         Date              Job Title  Job Location  Hired  \\\n",
       "0  11578773  1/1/19 0:01  BUSINESS DATA ANALYST  New York, NY   True   \n",
       "1  11613549  1/1/19 0:01  CLINICAL DATA ANALYST  New York, NY  False   \n",
       "2  11680840  1/1/19 0:01   DATA QUALITY ANALYST  New York, NY  False   \n",
       "3  11809979  1/1/19 0:01   DATA QUALITY ANALYST  New York, NY  False   \n",
       "4  11836481  1/1/19 0:01        QA DATA ANALYST  New York, NY  False   \n",
       "\n",
       "   Easy Apply    Month  \n",
       "0       False  January  \n",
       "1       False  January  \n",
       "2       False  January  \n",
       "3        True  January  \n",
       "4       False  January  "
      ]
     },
     "execution_count": 46,
     "metadata": {},
     "output_type": "execute_result"
    }
   ],
   "source": [
    "df.head()"
   ]
  },
  {
   "cell_type": "code",
   "execution_count": 47,
   "id": "ef6de98f",
   "metadata": {},
   "outputs": [
    {
     "data": {
      "text/plain": [
       "(32596, 7)"
      ]
     },
     "execution_count": 47,
     "metadata": {},
     "output_type": "execute_result"
    }
   ],
   "source": [
    "df.shape"
   ]
  },
  {
   "cell_type": "code",
   "execution_count": 71,
   "id": "98059eed",
   "metadata": {},
   "outputs": [],
   "source": [
    "df1=df.drop(['ID','Date'],axis=1)"
   ]
  },
  {
   "cell_type": "code",
   "execution_count": 49,
   "id": "ca18a271",
   "metadata": {},
   "outputs": [
    {
     "data": {
      "text/plain": [
       "(32596, 5)"
      ]
     },
     "execution_count": 49,
     "metadata": {},
     "output_type": "execute_result"
    }
   ],
   "source": [
    "df1.shape"
   ]
  },
  {
   "cell_type": "code",
   "execution_count": 50,
   "id": "88c1548a",
   "metadata": {},
   "outputs": [
    {
     "data": {
      "text/html": [
       "<div>\n",
       "<style scoped>\n",
       "    .dataframe tbody tr th:only-of-type {\n",
       "        vertical-align: middle;\n",
       "    }\n",
       "\n",
       "    .dataframe tbody tr th {\n",
       "        vertical-align: top;\n",
       "    }\n",
       "\n",
       "    .dataframe thead th {\n",
       "        text-align: right;\n",
       "    }\n",
       "</style>\n",
       "<table border=\"1\" class=\"dataframe\">\n",
       "  <thead>\n",
       "    <tr style=\"text-align: right;\">\n",
       "      <th></th>\n",
       "      <th>Job Title</th>\n",
       "      <th>Job Location</th>\n",
       "      <th>Hired</th>\n",
       "      <th>Easy Apply</th>\n",
       "      <th>Month</th>\n",
       "    </tr>\n",
       "  </thead>\n",
       "  <tbody>\n",
       "    <tr>\n",
       "      <th>0</th>\n",
       "      <td>BUSINESS DATA ANALYST</td>\n",
       "      <td>New York, NY</td>\n",
       "      <td>True</td>\n",
       "      <td>False</td>\n",
       "      <td>January</td>\n",
       "    </tr>\n",
       "    <tr>\n",
       "      <th>1</th>\n",
       "      <td>CLINICAL DATA ANALYST</td>\n",
       "      <td>New York, NY</td>\n",
       "      <td>False</td>\n",
       "      <td>False</td>\n",
       "      <td>January</td>\n",
       "    </tr>\n",
       "    <tr>\n",
       "      <th>2</th>\n",
       "      <td>DATA QUALITY ANALYST</td>\n",
       "      <td>New York, NY</td>\n",
       "      <td>False</td>\n",
       "      <td>False</td>\n",
       "      <td>January</td>\n",
       "    </tr>\n",
       "    <tr>\n",
       "      <th>3</th>\n",
       "      <td>DATA QUALITY ANALYST</td>\n",
       "      <td>New York, NY</td>\n",
       "      <td>False</td>\n",
       "      <td>True</td>\n",
       "      <td>January</td>\n",
       "    </tr>\n",
       "    <tr>\n",
       "      <th>4</th>\n",
       "      <td>QA DATA ANALYST</td>\n",
       "      <td>New York, NY</td>\n",
       "      <td>False</td>\n",
       "      <td>False</td>\n",
       "      <td>January</td>\n",
       "    </tr>\n",
       "  </tbody>\n",
       "</table>\n",
       "</div>"
      ],
      "text/plain": [
       "               Job Title  Job Location  Hired  Easy Apply    Month\n",
       "0  BUSINESS DATA ANALYST  New York, NY   True       False  January\n",
       "1  CLINICAL DATA ANALYST  New York, NY  False       False  January\n",
       "2   DATA QUALITY ANALYST  New York, NY  False       False  January\n",
       "3   DATA QUALITY ANALYST  New York, NY  False        True  January\n",
       "4        QA DATA ANALYST  New York, NY  False       False  January"
      ]
     },
     "execution_count": 50,
     "metadata": {},
     "output_type": "execute_result"
    }
   ],
   "source": [
    "df1.head()"
   ]
  },
  {
   "cell_type": "code",
   "execution_count": 51,
   "id": "7bf655a7",
   "metadata": {},
   "outputs": [
    {
     "data": {
      "text/plain": [
       "Job Title       0\n",
       "Job Location    0\n",
       "Hired           0\n",
       "Easy Apply      0\n",
       "Month           0\n",
       "dtype: int64"
      ]
     },
     "execution_count": 51,
     "metadata": {},
     "output_type": "execute_result"
    }
   ],
   "source": [
    "df1.isnull().sum()"
   ]
  },
  {
   "cell_type": "code",
   "execution_count": 52,
   "id": "1392286f",
   "metadata": {},
   "outputs": [
    {
     "data": {
      "text/plain": [
       "array(['BUSINESS DATA ANALYST', 'CLINICAL DATA ANALYST',\n",
       "       'DATA QUALITY ANALYST', 'QA DATA ANALYST',\n",
       "       'TECHNICAL DATA ANALYST', 'DATA GOVERNANCE ANALYST',\n",
       "       'ECOMMERCE DATA ANALYST', 'DATA ENGINEER ANALYST',\n",
       "       'PRODUCT DATA ANALYST', 'RESEARCH DATA ANALYST',\n",
       "       'CREDIT DATA ANALYST', 'LOAN DATA ANALYST', 'SALES DATA ANALYST',\n",
       "       'DIGITAL MARKETING DATA ANALYST', 'MANUFACTURING DATA ANALYST',\n",
       "       'FRAUD DATA ANALYST', 'REGULATORY DATA ANALYST',\n",
       "       'OPERATIONS RESEARCH DATA ANALYST', 'CLAIMS DATA ANALYST',\n",
       "       'PROGRAM DATA ANALYST', 'PHARMACEUTICAL DATA ANALYST',\n",
       "       'RISK DATA ANALYST', 'UNDERWRITING ANALYST', 'DATA SCIENTIST',\n",
       "       'FINANCE ANALYST', 'TRANSPORTATION ANALYST',\n",
       "       'NETWORK DATA ANALYST', 'BIOINFORMATICS DATA ANALYST'],\n",
       "      dtype=object)"
      ]
     },
     "execution_count": 52,
     "metadata": {},
     "output_type": "execute_result"
    }
   ],
   "source": [
    "df['Job Title'].unique()"
   ]
  },
  {
   "cell_type": "code",
   "execution_count": 53,
   "id": "f7e554b8",
   "metadata": {},
   "outputs": [
    {
     "data": {
      "text/plain": [
       "BUSINESS DATA ANALYST               7725\n",
       "DATA QUALITY ANALYST                6207\n",
       "ECOMMERCE DATA ANALYST              3418\n",
       "TECHNICAL DATA ANALYST              2786\n",
       "QA DATA ANALYST                     2244\n",
       "MANUFACTURING DATA ANALYST          2121\n",
       "DIGITAL MARKETING DATA ANALYST      1821\n",
       "RESEARCH DATA ANALYST               1204\n",
       "CLINICAL DATA ANALYST               1117\n",
       "DATA GOVERNANCE ANALYST             1021\n",
       "PRODUCT DATA ANALYST                 878\n",
       "LOAN DATA ANALYST                    822\n",
       "OPERATIONS RESEARCH DATA ANALYST     285\n",
       "REGULATORY DATA ANALYST              196\n",
       "SALES DATA ANALYST                   187\n",
       "FRAUD DATA ANALYST                   168\n",
       "CREDIT DATA ANALYST                   86\n",
       "DATA SCIENTIST                        71\n",
       "PHARMACEUTICAL DATA ANALYST           56\n",
       "FINANCE ANALYST                       43\n",
       "DATA ENGINEER ANALYST                 32\n",
       "PROGRAM DATA ANALYST                  27\n",
       "RISK DATA ANALYST                     24\n",
       "TRANSPORTATION ANALYST                20\n",
       "UNDERWRITING ANALYST                  20\n",
       "CLAIMS DATA ANALYST                   12\n",
       "BIOINFORMATICS DATA ANALYST            3\n",
       "NETWORK DATA ANALYST                   2\n",
       "Name: Job Title, dtype: int64"
      ]
     },
     "execution_count": 53,
     "metadata": {},
     "output_type": "execute_result"
    }
   ],
   "source": [
    "df1['Job Title'].value_counts()\n",
    "#from this we can conclude that most of the ppl apply for business data analyst, Data qualtiy analyst, Ecommerce data analyst role"
   ]
  },
  {
   "cell_type": "code",
   "execution_count": 33,
   "id": "4e0cafd5",
   "metadata": {},
   "outputs": [],
   "source": [
    "#And least number of applciation for NETWORK DATA ANALYST, BIOINFORMATICS DATA ANALYST role"
   ]
  },
  {
   "cell_type": "code",
   "execution_count": 54,
   "id": "5cd02b9f",
   "metadata": {},
   "outputs": [
    {
     "data": {
      "text/html": [
       "<div>\n",
       "<style scoped>\n",
       "    .dataframe tbody tr th:only-of-type {\n",
       "        vertical-align: middle;\n",
       "    }\n",
       "\n",
       "    .dataframe tbody tr th {\n",
       "        vertical-align: top;\n",
       "    }\n",
       "\n",
       "    .dataframe thead th {\n",
       "        text-align: right;\n",
       "    }\n",
       "</style>\n",
       "<table border=\"1\" class=\"dataframe\">\n",
       "  <thead>\n",
       "    <tr style=\"text-align: right;\">\n",
       "      <th></th>\n",
       "      <th>Job Title</th>\n",
       "      <th>Job Location</th>\n",
       "      <th>Hired</th>\n",
       "      <th>Easy Apply</th>\n",
       "      <th>Month</th>\n",
       "    </tr>\n",
       "  </thead>\n",
       "  <tbody>\n",
       "    <tr>\n",
       "      <th>0</th>\n",
       "      <td>BUSINESS DATA ANALYST</td>\n",
       "      <td>New York, NY</td>\n",
       "      <td>True</td>\n",
       "      <td>False</td>\n",
       "      <td>January</td>\n",
       "    </tr>\n",
       "    <tr>\n",
       "      <th>1</th>\n",
       "      <td>CLINICAL DATA ANALYST</td>\n",
       "      <td>New York, NY</td>\n",
       "      <td>False</td>\n",
       "      <td>False</td>\n",
       "      <td>January</td>\n",
       "    </tr>\n",
       "    <tr>\n",
       "      <th>2</th>\n",
       "      <td>DATA QUALITY ANALYST</td>\n",
       "      <td>New York, NY</td>\n",
       "      <td>False</td>\n",
       "      <td>False</td>\n",
       "      <td>January</td>\n",
       "    </tr>\n",
       "    <tr>\n",
       "      <th>3</th>\n",
       "      <td>DATA QUALITY ANALYST</td>\n",
       "      <td>New York, NY</td>\n",
       "      <td>False</td>\n",
       "      <td>True</td>\n",
       "      <td>January</td>\n",
       "    </tr>\n",
       "    <tr>\n",
       "      <th>4</th>\n",
       "      <td>QA DATA ANALYST</td>\n",
       "      <td>New York, NY</td>\n",
       "      <td>False</td>\n",
       "      <td>False</td>\n",
       "      <td>January</td>\n",
       "    </tr>\n",
       "  </tbody>\n",
       "</table>\n",
       "</div>"
      ],
      "text/plain": [
       "               Job Title  Job Location  Hired  Easy Apply    Month\n",
       "0  BUSINESS DATA ANALYST  New York, NY   True       False  January\n",
       "1  CLINICAL DATA ANALYST  New York, NY  False       False  January\n",
       "2   DATA QUALITY ANALYST  New York, NY  False       False  January\n",
       "3   DATA QUALITY ANALYST  New York, NY  False        True  January\n",
       "4        QA DATA ANALYST  New York, NY  False       False  January"
      ]
     },
     "execution_count": 54,
     "metadata": {},
     "output_type": "execute_result"
    }
   ],
   "source": [
    "df1.head()"
   ]
  },
  {
   "cell_type": "code",
   "execution_count": 55,
   "id": "c77d3f7d",
   "metadata": {},
   "outputs": [
    {
     "data": {
      "text/plain": [
       "array(['New York, NY', 'Fairfield, NJ', 'Jersey City, NJ', 'Brooklyn, NY',\n",
       "       'Weehawken, NJ', 'Long Island City, NY', 'Florham Park, NJ',\n",
       "       'Manhasset, NY', 'Newark, NJ', 'Queens Village, NY', 'Haworth, NJ',\n",
       "       'Fort Lee, NJ', 'South Plainfield, NJ', 'Bronx, NY',\n",
       "       'Little Ferry, NJ', 'Lake Success, NY', 'Summit, NJ',\n",
       "       'Valley Stream, NY', 'Berkeley Heights, NJ', 'Essex Fells, NJ',\n",
       "       'Franklin Lakes, NJ', 'Mount Vernon, NY', 'Secaucus, NJ',\n",
       "       'West Orange, NJ', 'Far Rockaway, NY', 'Woodbridge, NJ',\n",
       "       'Parsippany, NJ', 'Whippany, NJ', 'Great Neck, NY', 'Hoboken, NJ',\n",
       "       'Staten Island, NY', 'Harrison, NY', 'Iselin, NJ', 'Montvale, NJ',\n",
       "       'Woodcliff Lake, NJ', 'Salt Lake City, UT', 'West Jordan, UT',\n",
       "       'Lehi, UT', 'Draper, UT', 'American Fork, UT', 'Sandy, UT',\n",
       "       'Riverton, UT', 'Reedley, CA', 'Visalia, CA', 'Hanford, CA',\n",
       "       'Hampton, VA', 'Norfolk, VA', 'Portsmouth, VA', 'Chesapeake, VA',\n",
       "       'Smithfield, VA', 'Suffolk, VA', 'Newport News, VA',\n",
       "       'Virginia Beach, VA', 'Yorktown, VA', 'Fort Eustis, VA',\n",
       "       'Gainesville, FL', 'Alachua, FL', 'El Segundo, CA',\n",
       "       'Los Angeles, CA', 'Santa Monica, CA', 'Hermosa Beach, CA',\n",
       "       'Gardena, CA', 'Burbank, CA', 'Culver City, CA', 'Glendale, CA',\n",
       "       'Inglewood, CA', 'Venice, CA', 'Pasadena, CA', 'Cerritos, CA',\n",
       "       'Irwindale, CA', 'Carson, CA', 'Anaheim, CA', 'Beverly Hills, CA',\n",
       "       'Long Beach, CA', 'Northridge, CA', 'Alhambra, CA', 'Brea, CA',\n",
       "       'Duarte, CA', 'Woodland Hills, CA', 'Monterey Park, CA',\n",
       "       'Marina del Rey, CA', 'Arcadia, CA', 'Torrance, CA',\n",
       "       'Panorama City, CA', 'Signal Hill, CA', 'Azusa, CA',\n",
       "       'City of Industry, CA', 'Pico Rivera, CA', 'Whittier, CA',\n",
       "       'San Fernando, CA', 'Chicago, IL', 'Downers Grove, IL',\n",
       "       'Broadview, IL', 'Woodridge, IL', 'Burr Ridge, IL',\n",
       "       'Rolling Meadows, IL', 'Deerfield, IL', 'Northlake, IL',\n",
       "       'Northbrook, IL', 'Des Plaines, IL', 'Itasca, IL', 'Evanston, IL',\n",
       "       'Bridgeview, IL', 'Oak Brook, IL', 'Northfield, IL', 'Maywood, IL',\n",
       "       'Glenview, IL', 'Elk Grove Village, IL', 'Arlington Heights, IL',\n",
       "       'Houston, TX', 'Stafford, TX', 'Pearland, TX', 'Sugar Land, TX',\n",
       "       'Pasadena, TX', 'Spring, TX', 'Phoenix, AZ', 'Tempe, AZ',\n",
       "       'Scottsdale, AZ', 'Glendale, AZ', 'Chandler, AZ', 'Mesa, AZ',\n",
       "       'DC Ranch, AZ', 'King of Prussia, PA', 'Plymouth Meeting, PA',\n",
       "       'Blue Bell, PA', 'Fort Washington, PA', 'Philadelphia, PA',\n",
       "       'Wilmington, DE', 'Malvern, PA', 'Horsham, PA', 'Camden, NJ',\n",
       "       'Feasterville Trevose, PA', 'Radnor, PA', 'West Conshohocken, PA',\n",
       "       'Wayne, PA', 'Bensalem, PA', 'Exton, PA', 'Doylestown, PA',\n",
       "       'Allegheny West, PA', 'Paoli, PA', 'Chester Township, PA',\n",
       "       'Conshohocken, PA', 'West Chester, PA', 'Mount Laurel, NJ',\n",
       "       'Ridley Park, PA', 'Berwyn, PA', 'Newtown, PA',\n",
       "       'Newtown Square, PA', 'Boothwyn, PA', 'West Point, PA',\n",
       "       'Norristown, PA', 'Marlton, NJ', 'Moorestown, NJ',\n",
       "       'San Antonio, TX', 'Lackland AFB, TX', 'Fort Sam Houston, TX',\n",
       "       'San Diego, CA', 'National City, CA', 'El Cajon, CA', 'Plano, TX',\n",
       "       'Allen, TX', 'Arlington, TX', 'Dallas, TX', 'Richardson, TX',\n",
       "       'Irving, TX', 'Grapevine, TX', 'Lewisville, TX', 'Addison, TX',\n",
       "       'Tarrant, TX', 'Carrollton, TX', 'Southlake, TX', 'Coppell, TX',\n",
       "       'Farmers Branch, TX', 'Newark, CA', 'Santa Clara, CA',\n",
       "       'Redwood City, CA', 'Cupertino, CA', 'San Jose, CA', 'Fremont, CA',\n",
       "       'Menlo Park, CA', 'Palo Alto, CA', 'Mountain View, CA',\n",
       "       'Sunnyvale, CA', 'Los Gatos, CA', 'Stanford, CA',\n",
       "       'East Palo Alto, CA', 'Pleasanton, CA', 'Union City, CA',\n",
       "       'Milpitas, CA', 'Campbell, CA', 'Austin, TX',\n",
       "       'West Lake Hills, TX', 'Round Rock, TX', 'Cedar Park, TX',\n",
       "       'Jacksonville, FL', 'Fort Worth, TX', 'Roanoke, TX',\n",
       "       'Westlake, TX', 'Columbus, OH', 'Westerville, OH', 'Hilliard, OH',\n",
       "       'Dublin, OH', 'Charlotte, NC', 'Mooresville, NC',\n",
       "       'Huntersville, NC', 'Fort Mill, SC', 'Indian Trail, NC',\n",
       "       'San Francisco, CA', 'San Rafael, CA', 'San Mateo, CA',\n",
       "       'Oakland, CA', 'Berkeley, CA', 'Burlingame, CA', 'Foster City, CA',\n",
       "       'Marin City, CA', 'Daly City, CA', 'South San Francisco, CA',\n",
       "       'San Bruno, CA', 'Emeryville, CA', 'Novato, CA', 'Millbrae, CA',\n",
       "       'San Ramon, CA', 'Hercules, CA', 'Alameda, CA', 'Walnut Creek, CA',\n",
       "       'Carmel, IN', 'Indianapolis, IN', 'Whitestown, IN',\n",
       "       'Jeffersonville, IN', 'Beech Grove, IN', 'Lawrence, IN',\n",
       "       'Redmond, WA', 'Seattle, WA', 'Issaquah, WA', 'Kent, WA',\n",
       "       'Bellevue, WA', 'Renton, WA', 'Kirkland, WA', 'Athens, GA',\n",
       "       'Burlingame, KS', 'Topeka, KS', 'Denver, CO', 'Centennial, CO',\n",
       "       'Boulder, CO', 'Greenwood Village, Arapahoe, CO', 'Henderson, CO',\n",
       "       'Englewood, CO', 'Lakewood, CO', 'Lone Tree, CO', 'Louisville, CO',\n",
       "       'Aurora, CO', 'Broomfield, CO', 'Littleton, CO'], dtype=object)"
      ]
     },
     "execution_count": 55,
     "metadata": {},
     "output_type": "execute_result"
    }
   ],
   "source": [
    "df1['Job Location'].unique()"
   ]
  },
  {
   "cell_type": "code",
   "execution_count": 56,
   "id": "e7a0d7fd",
   "metadata": {},
   "outputs": [
    {
     "data": {
      "text/plain": [
       "New York, NY         4650\n",
       "Chicago, IL          1950\n",
       "San Francisco, CA    1666\n",
       "Los Angeles, CA      1200\n",
       "Austin, TX           1134\n",
       "                     ... \n",
       "Daly City, CA          14\n",
       "Indian Trail, NC       14\n",
       "Conshohocken, PA       14\n",
       "Campbell, CA           14\n",
       "Whitestown, IN         14\n",
       "Name: Job Location, Length: 253, dtype: int64"
      ]
     },
     "execution_count": 56,
     "metadata": {},
     "output_type": "execute_result"
    }
   ],
   "source": [
    "df1['Job Location'].value_counts()"
   ]
  },
  {
   "cell_type": "code",
   "execution_count": null,
   "id": "52e5a492",
   "metadata": {},
   "outputs": [],
   "source": [
    "#most of the applicants are interested for working in New York, Chicago, San Francisco,Los Angeles,\n",
    "#and least ppl are intrested for working in Daly City, Indian Trail,Conshohocken,Campbell,Whitestown"
   ]
  },
  {
   "cell_type": "code",
   "execution_count": 104,
   "id": "a4877075",
   "metadata": {},
   "outputs": [],
   "source": [
    "df2= pd.get_dummies(df1, columns=['Hired'])"
   ]
  },
  {
   "cell_type": "code",
   "execution_count": 105,
   "id": "1be14dd0",
   "metadata": {},
   "outputs": [
    {
     "data": {
      "text/html": [
       "<div>\n",
       "<style scoped>\n",
       "    .dataframe tbody tr th:only-of-type {\n",
       "        vertical-align: middle;\n",
       "    }\n",
       "\n",
       "    .dataframe tbody tr th {\n",
       "        vertical-align: top;\n",
       "    }\n",
       "\n",
       "    .dataframe thead th {\n",
       "        text-align: right;\n",
       "    }\n",
       "</style>\n",
       "<table border=\"1\" class=\"dataframe\">\n",
       "  <thead>\n",
       "    <tr style=\"text-align: right;\">\n",
       "      <th></th>\n",
       "      <th>Job Title</th>\n",
       "      <th>Job Location</th>\n",
       "      <th>Easy Apply</th>\n",
       "      <th>Month</th>\n",
       "      <th>Hired_False</th>\n",
       "      <th>Hired_True</th>\n",
       "    </tr>\n",
       "  </thead>\n",
       "  <tbody>\n",
       "    <tr>\n",
       "      <th>0</th>\n",
       "      <td>BUSINESS DATA ANALYST</td>\n",
       "      <td>New York, NY</td>\n",
       "      <td>False</td>\n",
       "      <td>January</td>\n",
       "      <td>0</td>\n",
       "      <td>1</td>\n",
       "    </tr>\n",
       "    <tr>\n",
       "      <th>1</th>\n",
       "      <td>CLINICAL DATA ANALYST</td>\n",
       "      <td>New York, NY</td>\n",
       "      <td>False</td>\n",
       "      <td>January</td>\n",
       "      <td>1</td>\n",
       "      <td>0</td>\n",
       "    </tr>\n",
       "    <tr>\n",
       "      <th>2</th>\n",
       "      <td>DATA QUALITY ANALYST</td>\n",
       "      <td>New York, NY</td>\n",
       "      <td>False</td>\n",
       "      <td>January</td>\n",
       "      <td>1</td>\n",
       "      <td>0</td>\n",
       "    </tr>\n",
       "    <tr>\n",
       "      <th>3</th>\n",
       "      <td>DATA QUALITY ANALYST</td>\n",
       "      <td>New York, NY</td>\n",
       "      <td>True</td>\n",
       "      <td>January</td>\n",
       "      <td>1</td>\n",
       "      <td>0</td>\n",
       "    </tr>\n",
       "    <tr>\n",
       "      <th>4</th>\n",
       "      <td>QA DATA ANALYST</td>\n",
       "      <td>New York, NY</td>\n",
       "      <td>False</td>\n",
       "      <td>January</td>\n",
       "      <td>1</td>\n",
       "      <td>0</td>\n",
       "    </tr>\n",
       "  </tbody>\n",
       "</table>\n",
       "</div>"
      ],
      "text/plain": [
       "               Job Title  Job Location  Easy Apply    Month  Hired_False  \\\n",
       "0  BUSINESS DATA ANALYST  New York, NY       False  January            0   \n",
       "1  CLINICAL DATA ANALYST  New York, NY       False  January            1   \n",
       "2   DATA QUALITY ANALYST  New York, NY       False  January            1   \n",
       "3   DATA QUALITY ANALYST  New York, NY        True  January            1   \n",
       "4        QA DATA ANALYST  New York, NY       False  January            1   \n",
       "\n",
       "   Hired_True  \n",
       "0           1  \n",
       "1           0  \n",
       "2           0  \n",
       "3           0  \n",
       "4           0  "
      ]
     },
     "execution_count": 105,
     "metadata": {},
     "output_type": "execute_result"
    }
   ],
   "source": [
    "df2.head()"
   ]
  },
  {
   "cell_type": "code",
   "execution_count": 107,
   "id": "ca301b8f",
   "metadata": {},
   "outputs": [
    {
     "data": {
      "text/html": [
       "<div>\n",
       "<style scoped>\n",
       "    .dataframe tbody tr th:only-of-type {\n",
       "        vertical-align: middle;\n",
       "    }\n",
       "\n",
       "    .dataframe tbody tr th {\n",
       "        vertical-align: top;\n",
       "    }\n",
       "\n",
       "    .dataframe thead th {\n",
       "        text-align: right;\n",
       "    }\n",
       "</style>\n",
       "<table border=\"1\" class=\"dataframe\">\n",
       "  <thead>\n",
       "    <tr style=\"text-align: right;\">\n",
       "      <th></th>\n",
       "      <th>Job Title</th>\n",
       "      <th>Job Location</th>\n",
       "      <th>Easy Apply</th>\n",
       "      <th>Month</th>\n",
       "      <th>Hired_True</th>\n",
       "    </tr>\n",
       "  </thead>\n",
       "  <tbody>\n",
       "    <tr>\n",
       "      <th>0</th>\n",
       "      <td>BUSINESS DATA ANALYST</td>\n",
       "      <td>New York, NY</td>\n",
       "      <td>False</td>\n",
       "      <td>January</td>\n",
       "      <td>1</td>\n",
       "    </tr>\n",
       "    <tr>\n",
       "      <th>1</th>\n",
       "      <td>CLINICAL DATA ANALYST</td>\n",
       "      <td>New York, NY</td>\n",
       "      <td>False</td>\n",
       "      <td>January</td>\n",
       "      <td>0</td>\n",
       "    </tr>\n",
       "    <tr>\n",
       "      <th>2</th>\n",
       "      <td>DATA QUALITY ANALYST</td>\n",
       "      <td>New York, NY</td>\n",
       "      <td>False</td>\n",
       "      <td>January</td>\n",
       "      <td>0</td>\n",
       "    </tr>\n",
       "    <tr>\n",
       "      <th>3</th>\n",
       "      <td>DATA QUALITY ANALYST</td>\n",
       "      <td>New York, NY</td>\n",
       "      <td>True</td>\n",
       "      <td>January</td>\n",
       "      <td>0</td>\n",
       "    </tr>\n",
       "    <tr>\n",
       "      <th>4</th>\n",
       "      <td>QA DATA ANALYST</td>\n",
       "      <td>New York, NY</td>\n",
       "      <td>False</td>\n",
       "      <td>January</td>\n",
       "      <td>0</td>\n",
       "    </tr>\n",
       "    <tr>\n",
       "      <th>...</th>\n",
       "      <td>...</td>\n",
       "      <td>...</td>\n",
       "      <td>...</td>\n",
       "      <td>...</td>\n",
       "      <td>...</td>\n",
       "    </tr>\n",
       "    <tr>\n",
       "      <th>32591</th>\n",
       "      <td>BUSINESS DATA ANALYST</td>\n",
       "      <td>Chandler, AZ</td>\n",
       "      <td>False</td>\n",
       "      <td>December</td>\n",
       "      <td>0</td>\n",
       "    </tr>\n",
       "    <tr>\n",
       "      <th>32592</th>\n",
       "      <td>BUSINESS DATA ANALYST</td>\n",
       "      <td>Glendale, AZ</td>\n",
       "      <td>False</td>\n",
       "      <td>December</td>\n",
       "      <td>0</td>\n",
       "    </tr>\n",
       "    <tr>\n",
       "      <th>32593</th>\n",
       "      <td>MANUFACTURING DATA ANALYST</td>\n",
       "      <td>Tempe, AZ</td>\n",
       "      <td>False</td>\n",
       "      <td>December</td>\n",
       "      <td>0</td>\n",
       "    </tr>\n",
       "    <tr>\n",
       "      <th>32594</th>\n",
       "      <td>ECOMMERCE DATA ANALYST</td>\n",
       "      <td>Phoenix, AZ</td>\n",
       "      <td>True</td>\n",
       "      <td>December</td>\n",
       "      <td>1</td>\n",
       "    </tr>\n",
       "    <tr>\n",
       "      <th>32595</th>\n",
       "      <td>PRODUCT DATA ANALYST</td>\n",
       "      <td>Chandler, AZ</td>\n",
       "      <td>False</td>\n",
       "      <td>December</td>\n",
       "      <td>0</td>\n",
       "    </tr>\n",
       "  </tbody>\n",
       "</table>\n",
       "<p>32596 rows × 5 columns</p>\n",
       "</div>"
      ],
      "text/plain": [
       "                        Job Title  Job Location  Easy Apply     Month  \\\n",
       "0           BUSINESS DATA ANALYST  New York, NY       False   January   \n",
       "1           CLINICAL DATA ANALYST  New York, NY       False   January   \n",
       "2            DATA QUALITY ANALYST  New York, NY       False   January   \n",
       "3            DATA QUALITY ANALYST  New York, NY        True   January   \n",
       "4                 QA DATA ANALYST  New York, NY       False   January   \n",
       "...                           ...           ...         ...       ...   \n",
       "32591       BUSINESS DATA ANALYST  Chandler, AZ       False  December   \n",
       "32592       BUSINESS DATA ANALYST  Glendale, AZ       False  December   \n",
       "32593  MANUFACTURING DATA ANALYST     Tempe, AZ       False  December   \n",
       "32594      ECOMMERCE DATA ANALYST   Phoenix, AZ        True  December   \n",
       "32595        PRODUCT DATA ANALYST  Chandler, AZ       False  December   \n",
       "\n",
       "       Hired_True  \n",
       "0               1  \n",
       "1               0  \n",
       "2               0  \n",
       "3               0  \n",
       "4               0  \n",
       "...           ...  \n",
       "32591           0  \n",
       "32592           0  \n",
       "32593           0  \n",
       "32594           1  \n",
       "32595           0  \n",
       "\n",
       "[32596 rows x 5 columns]"
      ]
     },
     "execution_count": 107,
     "metadata": {},
     "output_type": "execute_result"
    }
   ],
   "source": [
    "df2.drop('Hired_False',axis=1)"
   ]
  },
  {
   "cell_type": "code",
   "execution_count": 111,
   "id": "77fa3ff4",
   "metadata": {},
   "outputs": [
    {
     "data": {
      "text/plain": [
       "0    25594\n",
       "1     7002\n",
       "Name: Hired_True, dtype: int64"
      ]
     },
     "execution_count": 111,
     "metadata": {},
     "output_type": "execute_result"
    }
   ],
   "source": [
    "x=df2['Hired_True'].value_counts()"
   ]
  },
  {
   "cell_type": "code",
   "execution_count": 116,
   "id": "21ba8fc6",
   "metadata": {},
   "outputs": [
    {
     "data": {
      "text/plain": [
       "<matplotlib.legend.Legend at 0x1b3ad130>"
      ]
     },
     "execution_count": 116,
     "metadata": {},
     "output_type": "execute_result"
    },
    {
     "data": {
      "image/png": "[encoded data removed]",
      "text/plain": [
       "<Figure size 432x288 with 1 Axes>"
      ]
     },
     "metadata": {},
     "output_type": "display_data"
    }
   ],
   "source": [
    "values=[25594,7002]\n",
    "labels=['Hired','Not Hired']\n",
    "plt.pie(values,labels=labels,autopct='%1.2f%%')\n",
    "plt.legend()"
   ]
  },
  {
   "cell_type": "code",
   "execution_count": 117,
   "id": "ee4364d8",
   "metadata": {},
   "outputs": [],
   "source": [
    "#Around 79% of candidates total applied candidates get selected"
   ]
  },
  {
   "cell_type": "code",
   "execution_count": 118,
   "id": "abda4ff9",
   "metadata": {},
   "outputs": [
    {
     "data": {
      "text/plain": [
       "July         3138\n",
       "June         2990\n",
       "August       2969\n",
       "May          2954\n",
       "September    2865\n",
       "October      2751\n",
       "December     2642\n",
       "April        2544\n",
       "March        2536\n",
       "November     2508\n",
       "January      2387\n",
       "February     2312\n",
       "Name: Month, dtype: int64"
      ]
     },
     "execution_count": 118,
     "metadata": {},
     "output_type": "execute_result"
    }
   ],
   "source": [
    "df2['Month'].value_counts()"
   ]
  },
  {
   "cell_type": "code",
   "execution_count": null,
   "id": "0099a2a4",
   "metadata": {},
   "outputs": [],
   "source": [
    "x=[July,'June'         \n",
    "August       \n",
    "May          \n",
    "September    \n",
    "October      \n",
    "December     \n",
    "April        \n",
    "March        \n",
    "November     \n",
    "January      \n",
    "February     ]\n",
    "y=[3138,2990,2969,2954,2865,2751,2642,2544,2536,2508,2387,2312]"
   ]
  },
  {
   "cell_type": "code",
   "execution_count": 120,
   "id": "92c974ba",
   "metadata": {},
   "outputs": [
    {
     "name": "stderr",
     "output_type": "stream",
     "text": [
      "C:\\Users\\Pratiksha\\anaconda3\\lib\\site-packages\\seaborn\\_decorators.py:36: FutureWarning: Pass the following variable as a keyword arg: x. From version 0.12, the only valid positional argument will be `data`, and passing other arguments without an explicit keyword will result in an error or misinterpretation.\n",
      "  warnings.warn(\n"
     ]
    },
    {
     "data": {
      "text/plain": [
       "<AxesSubplot:xlabel='Month', ylabel='count'>"
      ]
     },
     "execution_count": 120,
     "metadata": {},
     "output_type": "execute_result"
    },
    {
     "data": {
      "image/png": "[encoded data removed]",
      "text/plain": [
       "<Figure size 1080x576 with 1 Axes>"
      ]
     },
     "metadata": {},
     "output_type": "display_data"
    }
   ],
   "source": [
    "sns.set(rc = {'figure.figsize':(15,8)})\n",
    "sns.countplot(df2['Month'])\n"
   ]
  },
  {
   "cell_type": "code",
   "execution_count": null,
   "id": "d0acc5b1",
   "metadata": {},
   "outputs": [],
   "source": [
    "#from this we can conclude that most of the candidates apply in month of July and least applications are recived in the month of Feb."
   ]
  }
 ],
 "metadata": {
  "kernelspec": {
   "display_name": "Python 3",
   "language": "python",
   "name": "python3"
  }
 },
 "nbformat": 4,
 "nbformat_minor": 5
}
